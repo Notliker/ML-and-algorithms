{
  "cells": [
    {
      "cell_type": "markdown",
      "source": [
        "#**Импорт библиотек**"
      ],
      "metadata": {
        "id": "d6SNCbHnizNu"
      },
      "id": "d6SNCbHnizNu"
    },
    {
      "cell_type": "code",
      "source": [
        "sudo apt install libpq-dev python3-dev"
      ],
      "metadata": {
        "id": "K0z2NdpLhE-E",
        "outputId": "cfdfce01-b1e8-4ba7-936d-a2c278ad1b2b",
        "colab": {
          "base_uri": "https://localhost:8080/",
          "height": 140
        }
      },
      "id": "K0z2NdpLhE-E",
      "execution_count": 1,
      "outputs": [
        {
          "output_type": "error",
          "ename": "SyntaxError",
          "evalue": "ignored",
          "traceback": [
            "\u001b[0;36m  File \u001b[0;32m\"<ipython-input-1-e9dd95fa3ded>\"\u001b[0;36m, line \u001b[0;32m1\u001b[0m\n\u001b[0;31m    sudo apt install libpq-dev python3-dev\u001b[0m\n\u001b[0m         ^\u001b[0m\n\u001b[0;31mSyntaxError\u001b[0m\u001b[0;31m:\u001b[0m invalid syntax\n"
          ]
        }
      ]
    },
    {
      "cell_type": "code",
      "execution_count": 2,
      "id": "d7b42de7",
      "metadata": {
        "id": "d7b42de7"
      },
      "outputs": [],
      "source": [
        "import numpy as np\n",
        "import pandas as pd\n",
        "import matplotlib.pyplot as plt\n",
        "from tensorflow import keras\n",
        "from keras.layers import Dense, Conv2D, MaxPooling2D, Flatten, Dropout\n",
        "import sklearn\n",
        "import os\n",
        "from sklearn import preprocessing, model_selection\n",
        "from PIL import Image\n",
        "from tensorflow.keras.preprocessing.image import ImageDataGenerator\n",
        "import tensorflow as tf"
      ]
    },
    {
      "cell_type": "markdown",
      "source": [
        "#**Считывание изображений первого персонажа**"
      ],
      "metadata": {
        "id": "H6WfyTPpiyla"
      },
      "id": "H6WfyTPpiyla"
    },
    {
      "cell_type": "code",
      "execution_count": 20,
      "id": "b710abde",
      "metadata": {
        "id": "b710abde"
      },
      "outputs": [],
      "source": [
        "X1 = np.array([\n",
        "    np.array(\n",
        "        Image.open('/content/drive/MyDrive/Colab Notebooks/Kim/{}.PNG'.format(i))\n",
        "        .resize((128, 128))\n",
        "        .convert('RGB')\n",
        "    ).reshape((128, 128, 3))\n",
        "    for i in range(1, 251)\n",
        "])\n",
        "#X1 = X1/255."
      ]
    },
    {
      "cell_type": "code",
      "source": [
        "from google.colab import drive\n",
        "drive.mount('/content/drive')"
      ],
      "metadata": {
        "colab": {
          "base_uri": "https://localhost:8080/"
        },
        "id": "7J0lJmWZMRfO",
        "outputId": "b924e457-663d-438a-bb30-9b05b0ff8b50"
      },
      "id": "7J0lJmWZMRfO",
      "execution_count": 4,
      "outputs": [
        {
          "output_type": "stream",
          "name": "stdout",
          "text": [
            "Mounted at /content/drive\n"
          ]
        }
      ]
    },
    {
      "cell_type": "markdown",
      "source": [
        "#**Считывание изображение второго персонажа**"
      ],
      "metadata": {
        "id": "x-JN0tIwjFru"
      },
      "id": "x-JN0tIwjFru"
    },
    {
      "cell_type": "code",
      "execution_count": 21,
      "id": "7ab2fc3e",
      "metadata": {
        "id": "7ab2fc3e"
      },
      "outputs": [],
      "source": [
        "X2 = np.array([\n",
        "    np.array(\n",
        "        Image.open('/content/drive/MyDrive/Saul/{}.PNG'.format(i))\n",
        "        .resize((128, 128))\n",
        "        .convert('RGB') # добавляем конвертацию в RGB\n",
        "    ).reshape((128, 128, 3)) # изменяем форму массива\n",
        "    for i in range(1, 251)\n",
        "])\n",
        "#X2 = X2/255."
      ]
    },
    {
      "cell_type": "markdown",
      "source": [
        "#**Объединение в общий X(train)**"
      ],
      "metadata": {
        "id": "XBbn3O6cjNF3"
      },
      "id": "XBbn3O6cjNF3"
    },
    {
      "cell_type": "code",
      "execution_count": 22,
      "id": "c3835ad7",
      "metadata": {
        "id": "c3835ad7"
      },
      "outputs": [],
      "source": [
        "X = np.concatenate([X1, X2], axis=0)"
      ]
    },
    {
      "cell_type": "markdown",
      "source": [
        "#**Аугментация данных (не запускать, портит точность)**"
      ],
      "metadata": {
        "id": "OBNOhCouimIn"
      },
      "id": "OBNOhCouimIn"
    },
    {
      "cell_type": "code",
      "execution_count": null,
      "id": "7365f00b",
      "metadata": {
        "id": "7365f00b"
      },
      "outputs": [],
      "source": [
        "# Создание генератора изображений для аугментации\n",
        "datagen = ImageDataGenerator(featurewise_center=False,\n",
        "    samplewise_center=False,\n",
        "    featurewise_std_normalization=False,\n",
        "    samplewise_std_normalization=False,\n",
        "    zca_whitening=False,\n",
        "    rotation_range=0.5,           # Диапазон поворота изображения в градусах\n",
        "    width_shift_range=0.5,       # Диапазон горизонтального смещения изображения\n",
        "    height_shift_range=0.5,      # Диапазон вертикального смещения изображения\n",
        "    shear_range=0.2,             # Диапазон сдвига (скоса) изображения\n",
        "    zoom_range=0.5,              # Диапазон масштабирования изображения\n",
        "    horizontal_flip=False,\n",
        "    vertical_flip=False,       # Отражение изображения по горизонтали\n",
        "   fill_mode='nearest'          # Метод заполнения пикселей за пределами границ изображения\n",
        ")\n",
        "\n",
        "# Преобразование и аугментация исходных изображений\n",
        "Xgen = []\n",
        "for i in range(X.shape[0]):\n",
        "    x = X[i]\n",
        "    x = x.reshape((1,) + x.shape)\n",
        "    for batch in datagen.flow(x, batch_size=1):\n",
        "        Xgen.append(batch.reshape(batch.shape[1:]))\n",
        "        break\n",
        "\n",
        "# Объединение исходных и аугментированных изображений\n",
        "X = np.concatenate((X, np.array(Xgen)))"
      ]
    },
    {
      "cell_type": "markdown",
      "source": [
        "#**Создание Y для картинок, где 0 = Saul, а Kim = 1**"
      ],
      "metadata": {
        "id": "Py2JG4V6jVA0"
      },
      "id": "Py2JG4V6jVA0"
    },
    {
      "cell_type": "code",
      "execution_count": 23,
      "id": "d20601e1",
      "metadata": {
        "id": "d20601e1"
      },
      "outputs": [],
      "source": [
        "Y = np.array([\n",
        "    1 if i<250 else 0 for i in range(500)\n",
        "])"
      ]
    },
    {
      "cell_type": "markdown",
      "source": [
        "#**Создаём x/y_test и x/y_train добавляя случайные значения(шумы)**"
      ],
      "metadata": {
        "id": "-NQu7hGwj8g2"
      },
      "id": "-NQu7hGwj8g2"
    },
    {
      "cell_type": "code",
      "execution_count": 24,
      "id": "bf51a547",
      "metadata": {
        "id": "bf51a547"
      },
      "outputs": [],
      "source": [
        "import random\n",
        "\n",
        "random.seed(42)\n",
        "rand_state = random.randint(1, 100)\n",
        "\n",
        "x_train, x_test, y_train, y_test = model_selection.train_test_split(X, Y, train_size=0.95, random_state=rand_state)"
      ]
    },
    {
      "cell_type": "markdown",
      "source": [
        "#**Структура свёрточной нейронной сети**"
      ],
      "metadata": {
        "id": "gTPKEejaiiTc"
      },
      "id": "gTPKEejaiiTc"
    },
    {
      "cell_type": "code",
      "execution_count": 25,
      "id": "994567c7",
      "metadata": {
        "id": "994567c7"
      },
      "outputs": [],
      "source": [
        "model = keras.Sequential([\n",
        "    Conv2D(32, (3, 3), padding=\"same\", activation=\"relu\", input_shape=(128, 128, 3)),\n",
        "    MaxPooling2D((2, 2), strides=3),\n",
        "    Conv2D(64, (3, 3), padding=\"same\", activation=\"relu\"),\n",
        "    MaxPooling2D((2, 2), strides=2),\n",
        "    Conv2D(128, (3, 3), padding=\"same\", activation=\"relu\"),\n",
        "    MaxPooling2D((2, 2), strides=2),\n",
        "    Conv2D(256, (3, 3), padding=\"same\", activation=\"relu\"),\n",
        "    MaxPooling2D((2, 2), strides=2),\n",
        "    Conv2D(512, (3, 3), padding=\"same\", activation=\"relu\"),\n",
        "    MaxPooling2D((2, 2), strides=2),\n",
        "    Conv2D(1024, (3, 3), padding=\"same\", activation=\"relu\"),\n",
        "    MaxPooling2D((2, 2), strides=2),\n",
        "    Flatten(),\n",
        "    Dense(1, activation=\"sigmoid\")\n",
        "])"
      ]
    },
    {
      "cell_type": "markdown",
      "source": [
        "#**Установление метрики, оптимизатора и фунции потерь**"
      ],
      "metadata": {
        "id": "9fKGs_X8kT_E"
      },
      "id": "9fKGs_X8kT_E"
    },
    {
      "cell_type": "code",
      "execution_count": 26,
      "id": "002679b3",
      "metadata": {
        "id": "002679b3"
      },
      "outputs": [],
      "source": [
        "model.compile(optimizer=keras.optimizers.Adam(), loss=\"binary_crossentropy\", metrics=[\"accuracy\"])"
      ]
    },
    {
      "cell_type": "markdown",
      "source": [
        "#**Обучение СНН**"
      ],
      "metadata": {
        "id": "tcQ2pbMukeZb"
      },
      "id": "tcQ2pbMukeZb"
    },
    {
      "cell_type": "code",
      "execution_count": 27,
      "id": "2e0417d9",
      "metadata": {
        "scrolled": true,
        "colab": {
          "base_uri": "https://localhost:8080/"
        },
        "id": "2e0417d9",
        "outputId": "5630fd05-da37-42e3-f009-f033f9c159df"
      },
      "outputs": [
        {
          "output_type": "stream",
          "name": "stdout",
          "text": [
            "Epoch 1/50\n",
            "4/4 [==============================] - 14s 431ms/step - loss: 42.3618 - accuracy: 0.4568\n",
            "Epoch 2/50\n",
            "4/4 [==============================] - 0s 51ms/step - loss: 0.8608 - accuracy: 0.5474\n",
            "Epoch 3/50\n",
            "4/4 [==============================] - 0s 48ms/step - loss: 0.6820 - accuracy: 0.5579\n",
            "Epoch 4/50\n",
            "4/4 [==============================] - 0s 48ms/step - loss: 0.6694 - accuracy: 0.6021\n",
            "Epoch 5/50\n",
            "4/4 [==============================] - 0s 47ms/step - loss: 0.6617 - accuracy: 0.5874\n",
            "Epoch 6/50\n",
            "4/4 [==============================] - 0s 48ms/step - loss: 0.6215 - accuracy: 0.6695\n",
            "Epoch 7/50\n",
            "4/4 [==============================] - 0s 48ms/step - loss: 0.6094 - accuracy: 0.6589\n",
            "Epoch 8/50\n",
            "4/4 [==============================] - 0s 47ms/step - loss: 0.5490 - accuracy: 0.7158\n",
            "Epoch 9/50\n",
            "4/4 [==============================] - 0s 48ms/step - loss: 0.5631 - accuracy: 0.7200\n",
            "Epoch 10/50\n",
            "4/4 [==============================] - 0s 49ms/step - loss: 0.5348 - accuracy: 0.7137\n",
            "Epoch 11/50\n",
            "4/4 [==============================] - 0s 48ms/step - loss: 0.4591 - accuracy: 0.7958\n",
            "Epoch 12/50\n",
            "4/4 [==============================] - 0s 48ms/step - loss: 0.4098 - accuracy: 0.8000\n",
            "Epoch 13/50\n",
            "4/4 [==============================] - 0s 48ms/step - loss: 0.3525 - accuracy: 0.8337\n",
            "Epoch 14/50\n",
            "4/4 [==============================] - 0s 51ms/step - loss: 0.3144 - accuracy: 0.8547\n",
            "Epoch 15/50\n",
            "4/4 [==============================] - 0s 54ms/step - loss: 0.2971 - accuracy: 0.8653\n",
            "Epoch 16/50\n",
            "4/4 [==============================] - 0s 51ms/step - loss: 0.2244 - accuracy: 0.9179\n",
            "Epoch 17/50\n",
            "4/4 [==============================] - 0s 51ms/step - loss: 0.1757 - accuracy: 0.9411\n",
            "Epoch 18/50\n",
            "4/4 [==============================] - 0s 51ms/step - loss: 0.1372 - accuracy: 0.9600\n",
            "Epoch 19/50\n",
            "4/4 [==============================] - 0s 52ms/step - loss: 0.1022 - accuracy: 0.9726\n",
            "Epoch 20/50\n",
            "4/4 [==============================] - 0s 51ms/step - loss: 0.0648 - accuracy: 0.9895\n",
            "Epoch 21/50\n",
            "4/4 [==============================] - 0s 51ms/step - loss: 0.0402 - accuracy: 0.9937\n",
            "Epoch 22/50\n",
            "4/4 [==============================] - 0s 50ms/step - loss: 0.0171 - accuracy: 1.0000\n",
            "Epoch 23/50\n",
            "4/4 [==============================] - 0s 51ms/step - loss: 0.0103 - accuracy: 1.0000\n",
            "Epoch 24/50\n",
            "4/4 [==============================] - 0s 50ms/step - loss: 0.0048 - accuracy: 1.0000\n",
            "Epoch 25/50\n",
            "4/4 [==============================] - 0s 48ms/step - loss: 0.0030 - accuracy: 1.0000\n",
            "Epoch 26/50\n",
            "4/4 [==============================] - 0s 49ms/step - loss: 0.0025 - accuracy: 1.0000\n",
            "Epoch 27/50\n",
            "4/4 [==============================] - 0s 50ms/step - loss: 0.0012 - accuracy: 1.0000\n",
            "Epoch 28/50\n",
            "4/4 [==============================] - 0s 52ms/step - loss: 7.7831e-04 - accuracy: 1.0000\n",
            "Epoch 29/50\n",
            "4/4 [==============================] - 0s 51ms/step - loss: 6.3581e-04 - accuracy: 1.0000\n",
            "Epoch 30/50\n",
            "4/4 [==============================] - 0s 52ms/step - loss: 4.8893e-04 - accuracy: 1.0000\n",
            "Epoch 31/50\n",
            "4/4 [==============================] - 0s 51ms/step - loss: 4.0544e-04 - accuracy: 1.0000\n",
            "Epoch 32/50\n",
            "4/4 [==============================] - 0s 52ms/step - loss: 3.1924e-04 - accuracy: 1.0000\n",
            "Epoch 33/50\n",
            "4/4 [==============================] - 0s 53ms/step - loss: 2.8348e-04 - accuracy: 1.0000\n",
            "Epoch 34/50\n",
            "4/4 [==============================] - 0s 49ms/step - loss: 2.3699e-04 - accuracy: 1.0000\n",
            "Epoch 35/50\n",
            "4/4 [==============================] - 0s 50ms/step - loss: 2.1664e-04 - accuracy: 1.0000\n",
            "Epoch 36/50\n",
            "4/4 [==============================] - 0s 50ms/step - loss: 1.9800e-04 - accuracy: 1.0000\n",
            "Epoch 37/50\n",
            "4/4 [==============================] - 0s 51ms/step - loss: 1.8129e-04 - accuracy: 1.0000\n",
            "Epoch 38/50\n",
            "4/4 [==============================] - 0s 52ms/step - loss: 1.6780e-04 - accuracy: 1.0000\n",
            "Epoch 39/50\n",
            "4/4 [==============================] - 0s 53ms/step - loss: 1.5710e-04 - accuracy: 1.0000\n",
            "Epoch 40/50\n",
            "4/4 [==============================] - 0s 53ms/step - loss: 1.4702e-04 - accuracy: 1.0000\n",
            "Epoch 41/50\n",
            "4/4 [==============================] - 0s 52ms/step - loss: 1.3919e-04 - accuracy: 1.0000\n",
            "Epoch 42/50\n",
            "4/4 [==============================] - 0s 50ms/step - loss: 1.3180e-04 - accuracy: 1.0000\n",
            "Epoch 43/50\n",
            "4/4 [==============================] - 0s 51ms/step - loss: 1.2539e-04 - accuracy: 1.0000\n",
            "Epoch 44/50\n",
            "4/4 [==============================] - 0s 48ms/step - loss: 1.1945e-04 - accuracy: 1.0000\n",
            "Epoch 45/50\n",
            "4/4 [==============================] - 0s 47ms/step - loss: 1.1415e-04 - accuracy: 1.0000\n",
            "Epoch 46/50\n",
            "4/4 [==============================] - 0s 47ms/step - loss: 1.0895e-04 - accuracy: 1.0000\n",
            "Epoch 47/50\n",
            "4/4 [==============================] - 0s 49ms/step - loss: 1.0436e-04 - accuracy: 1.0000\n",
            "Epoch 48/50\n",
            "4/4 [==============================] - 0s 48ms/step - loss: 1.0017e-04 - accuracy: 1.0000\n",
            "Epoch 49/50\n",
            "4/4 [==============================] - 0s 48ms/step - loss: 9.6279e-05 - accuracy: 1.0000\n",
            "Epoch 50/50\n",
            "4/4 [==============================] - 0s 48ms/step - loss: 9.2266e-05 - accuracy: 1.0000\n"
          ]
        },
        {
          "output_type": "execute_result",
          "data": {
            "text/plain": [
              "<keras.src.callbacks.History at 0x7c23ba8c3370>"
            ]
          },
          "metadata": {},
          "execution_count": 27
        }
      ],
      "source": [
        "model.fit(x_train, y_train, batch_size=128, epochs=50)"
      ]
    },
    {
      "cell_type": "markdown",
      "source": [
        "#**Оценка точности на тесте**"
      ],
      "metadata": {
        "id": "FaKFtpOAknXA"
      },
      "id": "FaKFtpOAknXA"
    },
    {
      "cell_type": "code",
      "execution_count": 28,
      "id": "b28353e4",
      "metadata": {
        "colab": {
          "base_uri": "https://localhost:8080/"
        },
        "id": "b28353e4",
        "outputId": "155bbdab-2c1f-4f8c-d0c5-67ad99dfaa40"
      },
      "outputs": [
        {
          "output_type": "stream",
          "name": "stdout",
          "text": [
            "1/1 [==============================] - 0s 387ms/step - loss: 0.1480 - accuracy: 0.9600\n"
          ]
        }
      ],
      "source": [
        "score, acc = model.evaluate(x_test, y_test)"
      ]
    },
    {
      "cell_type": "markdown",
      "source": [
        "#**Создание Confusion matrix**"
      ],
      "metadata": {
        "id": "6WZ56e_ZktJK"
      },
      "id": "6WZ56e_ZktJK"
    },
    {
      "cell_type": "code",
      "source": [
        "import seaborn as sns\n",
        "from sklearn.metrics import confusion_matrix\n",
        "\n",
        "pred = model.predict(x_test)\n",
        "\n",
        "cm = confusion_matrix(y_test, np.round(pred))\n",
        "\n",
        "sns.heatmap(cm, annot=True, cmap=\"Greens\")\n",
        "plt.title(\"Confusion Matrix\")\n",
        "plt.xlabel(\"Predicted Label\")\n",
        "plt.ylabel(\"True Label\")\n",
        "plt.show()"
      ],
      "metadata": {
        "colab": {
          "base_uri": "https://localhost:8080/",
          "height": 489
        },
        "id": "sGvYjDIiWY7D",
        "outputId": "82b326ee-5c1e-46a9-b704-73c05bf9465c"
      },
      "id": "sGvYjDIiWY7D",
      "execution_count": 29,
      "outputs": [
        {
          "output_type": "stream",
          "name": "stdout",
          "text": [
            "1/1 [==============================] - 0s 111ms/step\n"
          ]
        },
        {
          "output_type": "display_data",
          "data": {
            "text/plain": [
              "<Figure size 640x480 with 2 Axes>"
            ],
            "image/png": "[encoded data removed]"
          },
          "metadata": {}
        }
      ]
    },
    {
      "cell_type": "code",
      "source": [
        "lst= np.array(Image.open('/content/BCS_206_UC_0914_0519-RT.jpg').resize((128, 128)).convert('RGB'))\n",
        "score, acc = model.evaluate(lst, 1)"
      ],
      "metadata": {
        "id": "_KMtVjOwh4Kr"
      },
      "id": "_KMtVjOwh4Kr",
      "execution_count": null,
      "outputs": []
    }
  ],
  "metadata": {
    "kernelspec": {
      "display_name": "Python 3 (ipykernel)",
      "language": "python",
      "name": "python3"
    },
    "language_info": {
      "codemirror_mode": {
        "name": "ipython",
        "version": 3
      },
      "file_extension": ".py",
      "mimetype": "text/x-python",
      "name": "python",
      "nbconvert_exporter": "python",
      "pygments_lexer": "ipython3",
      "version": "3.9.13"
    },
    "colab": {
      "provenance": []
    },
    "accelerator": "GPU",
    "gpuClass": "standard"
  },
  "nbformat": 4,
  "nbformat_minor": 5
}